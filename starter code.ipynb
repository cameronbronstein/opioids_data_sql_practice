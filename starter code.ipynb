{
 "cells": [
  {
   "cell_type": "markdown",
   "metadata": {},
   "source": [
    "# Intro to postgreSQL and psycopg2\n",
    "\n",
    "**Cameron Bronstein - _July, 2019_**\n",
    "\n"
   ]
  },
  {
   "cell_type": "markdown",
   "metadata": {},
   "source": [
    "#### Dependencies\n",
    "\n",
    "- `psycopg2`: version 2.7.7\n",
    "- `postgreSQL`: [version 11.x](https://www.enterprisedb.com/downloads/postgres-postgresql-downloads)\n",
    "\n",
    "#### Documentation\n",
    "- [postgreSQL 11](https://www.postgresql.org/docs/11/index.html)\n",
    "\n",
    "#### Data Sources\n",
    "- [West Virginia Counties](https://www.westvirginia-demographics.com/counties_by_population)\n",
    "- [Opioid Use Data](https://www.washingtonpost.com/graphics/2019/investigations/dea-pain-pill-database/?utm_term=.b945f1d2a341#download-resources)\n"
   ]
  },
  {
   "cell_type": "code",
   "execution_count": null,
   "metadata": {
    "scrolled": true
   },
   "outputs": [],
   "source": [
    "# in case psycopg2 is not installed...\n",
    "# !pip install psycopg2-binary --user"
   ]
  },
  {
   "cell_type": "code",
   "execution_count": null,
   "metadata": {},
   "outputs": [],
   "source": [
    "# a few imports\n",
    "import psycopg2\n",
    "import pandas as pd"
   ]
  },
  {
   "cell_type": "markdown",
   "metadata": {},
   "source": [
    "## Connecting to Postgres DB\n",
    "\n",
    "**Arguments:**\n",
    "- `host = localhost`\n",
    "- `dbname` = **your choice of db**\n",
    "- `user` = **your postgres username**"
   ]
  },
  {
   "cell_type": "code",
   "execution_count": null,
   "metadata": {},
   "outputs": [],
   "source": [
    "# establishin a connection\n",
    "connection = psycopg2.connect(host = \"localhost\", dbname = \"dbname\", user = \"username\")"
   ]
  },
  {
   "cell_type": "code",
   "execution_count": null,
   "metadata": {},
   "outputs": [],
   "source": [
    "# creating the cursor - this is a python object that executes all of your SQL commands\n",
    "cursor = connection.cursor()"
   ]
  },
  {
   "cell_type": "markdown",
   "metadata": {},
   "source": [
    "### Create a table skeleton in the PG database\n",
    "\n",
    "**Steps:**\n",
    "- title\n",
    "- column names\n",
    "- column data types\n",
    "- primary key"
   ]
  },
  {
   "cell_type": "code",
   "execution_count": null,
   "metadata": {},
   "outputs": [],
   "source": [
    "command = \"\"\"\n",
    "CREATE TABLE west_virginia(\n",
    "transaction_date date,\n",
    "reporter_name varchar,\n",
    "reporter_address varchar,\n",
    "buyer_name varchar, \n",
    "buyer_category varchar,\n",
    "buyer_address varchar,\n",
    "buyer_county varchar,\n",
    "product_name varchar,\n",
    "drug_name varchar,\n",
    "dosage_unit float,\n",
    "quantity float,\n",
    "base_wt_gm float,\n",
    "labeler_name varchar,\n",
    "company_name varchar)\n",
    "\"\"\"\n",
    "\n",
    "cursor.execute(command)"
   ]
  },
  {
   "cell_type": "markdown",
   "metadata": {},
   "source": [
    "### Get the data"
   ]
  },
  {
   "cell_type": "code",
   "execution_count": null,
   "metadata": {},
   "outputs": [],
   "source": [
    "# filling the empty table with data!\n",
    "\n",
    "with open(\"./data/west_virginia_for_lesson.tsv\") as f:\n",
    "    \n",
    "    # why do we use next, here?\n",
    "    next(f)\n",
    "    \n",
    "    # here is cursor, again\n",
    "    cursor.copy_from(f, 'west_virginia', sep='\\t')\n",
    "\n",
    "# this establishes the end of a command block    \n",
    "connection.commit()"
   ]
  },
  {
   "cell_type": "code",
   "execution_count": null,
   "metadata": {
    "scrolled": false
   },
   "outputs": [],
   "source": [
    "# confirming that we have data\n",
    "\n",
    "command = \"\"\"\n",
    "SELECT COUNT(*)\n",
    "FROM west_virginia\n",
    "\"\"\"\n",
    "\n",
    "cursor.execute(command)\n",
    "\n",
    "cursor.fetchall()"
   ]
  },
  {
   "cell_type": "markdown",
   "metadata": {},
   "source": [
    "### West Virgina Counties // Relational Databases "
   ]
  },
  {
   "cell_type": "code",
   "execution_count": null,
   "metadata": {
    "scrolled": true
   },
   "outputs": [],
   "source": [
    "counties = pd.read_csv('./data/west_virginia_pop_by_county.csv')\n",
    "counties.head()"
   ]
  },
  {
   "cell_type": "code",
   "execution_count": null,
   "metadata": {},
   "outputs": [],
   "source": [
    "counties.head()"
   ]
  },
  {
   "cell_type": "markdown",
   "metadata": {},
   "source": [
    "<details>\n",
    "  <summary>How would we create a counties table?</summary>\n",
    "  \n",
    "  ```\n",
    "  CREATE TABLE counties(\n",
    "  County varchar,\n",
    "  Population integer,\n",
    "  Rank integer)\n",
    "  \n",
    "  with open(\"./data/west_virgina_pop_by_county.csv\") as f:\n",
    "      next(f)\n",
    "    \n",
    "      cursor.copy_from(f, 'counties', sep=',')\n",
    "\n",
    "  connection.commit()\n",
    "  ```\n",
    "</details>"
   ]
  },
  {
   "cell_type": "code",
   "execution_count": null,
   "metadata": {},
   "outputs": [],
   "source": [
    "command = \"\"\"\n",
    "\n",
    "\"\"\"\n",
    "\n",
    "cursor.execute(command)"
   ]
  },
  {
   "cell_type": "code",
   "execution_count": null,
   "metadata": {},
   "outputs": [],
   "source": [
    "# fill the counties table with data!\n"
   ]
  },
  {
   "cell_type": "markdown",
   "metadata": {},
   "source": [
    "### SQL portion\n",
    "\n",
    "- **First, an aside:**\n",
    "    - Case study: [Leavenworth County, Kansas](https://www.kcur.org/post/leavenworth-county-kansas-may-not-be-catastrophic-opioid-hotspot-new-data-appear-show#stream/0). This is important to being a data scientist, too!"
   ]
  },
  {
   "cell_type": "code",
   "execution_count": null,
   "metadata": {},
   "outputs": [],
   "source": [
    "# dislapy the column names from the west_virginia table \n",
    "\n",
    "command = \"\"\"\n",
    "SELECT column_name, data_type \n",
    "FROM information_schema.columns\n",
    "WHERE table_name = 'west_virginia';\n",
    "\"\"\"\n",
    "\n",
    "# this is the necessary syntax for psycopg2\n",
    "\n",
    "cursor.execute(command)\n",
    "cursor.fetchall()\n",
    "connection.commit()"
   ]
  },
  {
   "cell_type": "markdown",
   "metadata": {},
   "source": [
    "#### About psycopg2:\n",
    "\n",
    "- **Take notice of the output of `cusor.fetchall()`**\n",
    "    - It returns a list of tuples, with each element in the tuple ordered by the information specified in our query.\n",
    "    - For the purpose of this lesson, this data format might not make sense, but it is important to understand as future Data Engineers and Data Scientists. This format might be more useful in an ETL (extract, transform, load) pipeline than running the data through a Pandas DataFrame\n",
    "    \n",
    "- For the rest of this lesson, we will run our queries through `pandas` as you are likely familiar with from previous lessons and assignments. \n",
    "    - **But** our connection to the `postgres` database still relies on `psycopg2`"
   ]
  },
  {
   "cell_type": "markdown",
   "metadata": {},
   "source": [
    "### Query 1"
   ]
  },
  {
   "cell_type": "markdown",
   "metadata": {},
   "source": [
    "<details>\n",
    "  <summary>List the top 10 opioid buyers by grams purchased:</summary>\n",
    "  \n",
    "  ```\n",
    "SELECT buyer_name as buyer,\n",
    "       SUM(base_wt_gm) as total_ordered\n",
    "FROM west_virginia\n",
    "GROUP BY buyer_name\n",
    "ORDER BY total_ordered DESC\n",
    "LIMIT 10;\n",
    "  ```\n",
    "</details>"
   ]
  },
  {
   "cell_type": "code",
   "execution_count": null,
   "metadata": {},
   "outputs": [],
   "source": [
    "connection.commit()\n",
    "\n",
    "command = \"\"\"\n",
    "\n",
    "\"\"\"\n",
    "\n",
    "dataframe = pd.read_sql(command, connection)\n",
    "dataframe"
   ]
  },
  {
   "cell_type": "markdown",
   "metadata": {},
   "source": [
    "### Query 2"
   ]
  },
  {
   "cell_type": "markdown",
   "metadata": {},
   "source": [
    "<details>\n",
    "  <summary>List the top 10 opioid buyers by number of transactions, compared to total grams ordered:</summary>\n",
    "  \n",
    "  ```\n",
    "SELECT buyer_name as buyer,\n",
    "       SUM(base_wt_gm) as total_ordered\n",
    "       COUNT(buyer_name) as number_transactions\n",
    "FROM west_virginia\n",
    "GROUP BY buyer_name\n",
    "ORDER BY number_transactions DESC\n",
    "LIMIT 10;\n",
    "  ```\n",
    "</details>"
   ]
  },
  {
   "cell_type": "code",
   "execution_count": null,
   "metadata": {
    "scrolled": true
   },
   "outputs": [],
   "source": [
    "connection.commit()\n",
    "\n",
    "command = \"\"\"\n",
    "\n",
    "\"\"\"\n",
    "\n",
    "dataframe = pd.read_sql(command, connection)\n",
    "dataframe"
   ]
  },
  {
   "cell_type": "markdown",
   "metadata": {},
   "source": [
    "### Query 3"
   ]
  },
  {
   "cell_type": "markdown",
   "metadata": {},
   "source": [
    "<details>\n",
    "  <summary>List the top 10 counties by number of transactions:</summary>\n",
    "  \n",
    "  ```\n",
    "SELECT buyer_county as buyer_name,\n",
    "       COUNT(buyer_county) as number_transactions\n",
    "FROM west_virginia\n",
    "GROUP BY buyer_name\n",
    "ORDER BY number_transactions DESC\n",
    "LIMIT 10;\n",
    "  ```\n",
    "</details>"
   ]
  },
  {
   "cell_type": "code",
   "execution_count": null,
   "metadata": {},
   "outputs": [],
   "source": [
    "connection.commit()\n",
    "\n",
    "command = \"\"\"\n",
    "\n",
    "\"\"\"\n",
    "\n",
    "dataframe = pd.read_sql(command, connection)\n",
    "dataframe"
   ]
  },
  {
   "cell_type": "markdown",
   "metadata": {},
   "source": [
    "### Query 4"
   ]
  },
  {
   "cell_type": "markdown",
   "metadata": {},
   "source": [
    "<details>\n",
    "  <summary>How does this compare to total number grams purchased per county?</summary>\n",
    "  \n",
    "  ```\n",
    "SELECT buyer_county as county, \n",
    "       count(buyer_county) as number_transactions,\n",
    "       SUM(base_wt_gm) as total_grams_purchased\n",
    "FROM west_virginia\n",
    "GROUP BY county\n",
    "ORDER BY total_grams_purchased DESC\n",
    "LIMIT 10;\n",
    "  ```\n",
    "</details>"
   ]
  },
  {
   "cell_type": "code",
   "execution_count": null,
   "metadata": {},
   "outputs": [],
   "source": [
    "connection.commit()\n",
    "\n",
    "command = \"\"\"\n",
    "\n",
    "\"\"\"\n",
    "\n",
    "dataframe = pd.read_sql(command, connection)\n",
    "dataframe"
   ]
  },
  {
   "cell_type": "markdown",
   "metadata": {},
   "source": [
    "### Query 5"
   ]
  },
  {
   "cell_type": "markdown",
   "metadata": {},
   "source": [
    "<details>\n",
    "  <summary>What is the most common opioid product?</summary>\n",
    "  \n",
    "  ```\n",
    "SELECT product_name as product,\n",
    "       COUNT(product_name) as num_orders\n",
    "FROM west_virginia\n",
    "GROUP BY product\n",
    "ORDER BY num_orders DESC\n",
    "LIMIT 10;\n",
    "  ```\n",
    "</details>"
   ]
  },
  {
   "cell_type": "code",
   "execution_count": null,
   "metadata": {
    "scrolled": true
   },
   "outputs": [],
   "source": [
    "connection.commit()\n",
    "\n",
    "command = \"\"\"\n",
    "\n",
    "\"\"\"\n",
    "\n",
    "dataframe = pd.read_sql(command, connection)\n",
    "dataframe"
   ]
  },
  {
   "cell_type": "markdown",
   "metadata": {},
   "source": [
    "### Query 6"
   ]
  },
  {
   "cell_type": "markdown",
   "metadata": {},
   "source": [
    "<details>\n",
    "  <summary>How does opioid purchases compare to county population size?</summary>\n",
    "  \n",
    "  ```\n",
    "SELECT w.buyer_county as county, \n",
    "       count(w.buyer_county) as number_transactions,\n",
    "       SUM(w.base_wt_gm) as total_grams_purchased,\n",
    "       c.Population as population\n",
    "FROM west_virginia as w\n",
    "JOIN counties AS c on c.County = w.buyer_county\n",
    "GROUP BY w.buyer_county, c.Population\n",
    "ORDER BY c.Population DESC\n",
    "LIMIT 20;\n",
    "  ```\n",
    "</details>"
   ]
  },
  {
   "cell_type": "code",
   "execution_count": null,
   "metadata": {},
   "outputs": [],
   "source": [
    "connection.commit()\n",
    "\n",
    "command = \"\"\"\n",
    "\n",
    "\"\"\"\n",
    "\n",
    "dataframe = pd.read_sql(command, connection)\n",
    "dataframe"
   ]
  },
  {
   "cell_type": "markdown",
   "metadata": {},
   "source": [
    "### Query 7"
   ]
  },
  {
   "cell_type": "markdown",
   "metadata": {},
   "source": [
    "<details>\n",
    "  <summary>How many counties have more opioid purchase transactions than people?</summary>\n",
    "  \n",
    "  ```\n",
    "SELECT w.buyer_county as county, \n",
    "       count(w.buyer_county) as number_transactions,\n",
    "       c.Population as population\n",
    "FROM west_virginia as w\n",
    "JOIN counties AS c on c.County = w.buyer_county\n",
    "GROUP BY w.buyer_county, c.Population\n",
    "HAVING count(w.buyer_county) > c.Population\n",
    "ORDER BY number_transactions DESC\n",
    "  ```\n",
    "</details>"
   ]
  },
  {
   "cell_type": "code",
   "execution_count": null,
   "metadata": {},
   "outputs": [],
   "source": [
    "connection.commit()\n",
    "\n",
    "command = \"\"\"\n",
    "\n",
    "\"\"\"\n",
    "\n",
    "dataframe = pd.read_sql(command, connection)\n",
    "dataframe"
   ]
  },
  {
   "cell_type": "markdown",
   "metadata": {},
   "source": [
    "### Query 8"
   ]
  },
  {
   "cell_type": "markdown",
   "metadata": {},
   "source": [
    "<details>\n",
    "  <summary>What is their average number of opioids ordered by grams? Average number of pills?</summary>\n",
    "  \n",
    "  ```\n",
    "SELECT w.buyer_county as county, \n",
    "       count(w.buyer_county) as number_transactions,\n",
    "       c.Population as population,\n",
    "       AVG(w.base_wt_gm) as average_grams_per_order,\n",
    "       AVG(w.dosage_unit) as average_pills_per_order\n",
    "FROM west_virginia as w\n",
    "JOIN counties AS c on c.County = w.buyer_county\n",
    "GROUP BY w.buyer_county, c.Population\n",
    "HAVING count(w.buyer_county) > c.Population\n",
    "ORDER BY average_grams_per_order DESC;\n",
    "  ```\n",
    "</details>"
   ]
  },
  {
   "cell_type": "code",
   "execution_count": null,
   "metadata": {},
   "outputs": [],
   "source": [
    "connection.commit()\n",
    "\n",
    "command = \"\"\"\n",
    "\n",
    "\"\"\"\n",
    "\n",
    "dataframe = pd.read_sql(command, connection)\n",
    "dataframe"
   ]
  },
  {
   "cell_type": "markdown",
   "metadata": {},
   "source": [
    "### Query 9"
   ]
  },
  {
   "cell_type": "markdown",
   "metadata": {},
   "source": [
    "<details>\n",
    "  <summary>What's the average number of pills per person per year?</summary>\n",
    "  \n",
    "  ```\n",
    "SELECT w.buyer_county as county,\n",
    "       c.Population as population,\n",
    "       SUM(w.dosage_unit) as total_pills_purchased,\n",
    "       SUM(w.dosage_unit) / 7 as pills_per_year,\n",
    "       ((SUM(w.dosage_unit) / 7) / c.Population) as avg_pill_per_person \n",
    "FROM west_virginia as w\n",
    "JOIN counties AS c on c.County = w.buyer_county\n",
    "GROUP BY w.buyer_county, c.Population\n",
    "ORDER BY avg_pill_per_person DESC;\n",
    "  ```\n",
    "</details>"
   ]
  },
  {
   "cell_type": "code",
   "execution_count": null,
   "metadata": {},
   "outputs": [],
   "source": [
    "connection.commit()\n",
    "\n",
    "command = \"\"\"\n",
    "\n",
    "\"\"\"\n",
    "\n",
    "dataframe = pd.read_sql(command, connection)\n",
    "dataframe"
   ]
  },
  {
   "cell_type": "markdown",
   "metadata": {},
   "source": [
    "### Query 10"
   ]
  },
  {
   "cell_type": "markdown",
   "metadata": {},
   "source": [
    "<details>\n",
    "  <summary>Pills per person - Statewide:</summary>\n",
    "  \n",
    "  ```\n",
    "SELECT AVG(a.avg_pill_per_person) as statewide_average\n",
    "FROM\n",
    "(SELECT w.buyer_county as county,\n",
    "       c.Population as population,\n",
    "       SUM(w.dosage_unit) as total_pills_purchased,\n",
    "       SUM(w.dosage_unit) / 7 as pills_per_year,\n",
    "       ((SUM(w.dosage_unit) / 7) / c.Population) as avg_pill_per_person\n",
    "FROM west_virginia as w\n",
    "JOIN counties AS c on c.County = w.buyer_county\n",
    "GROUP BY w.buyer_county, c.Population\n",
    "ORDER BY avg_pill_per_person DESC)\n",
    "AS a;\n",
    "  ```\n",
    "</details>"
   ]
  },
  {
   "cell_type": "code",
   "execution_count": null,
   "metadata": {},
   "outputs": [],
   "source": [
    "connection.commit()\n",
    "\n",
    "command = \"\"\"\n",
    "\n",
    "\"\"\"\n",
    "\n",
    "dataframe = pd.read_sql(command, connection)\n",
    "dataframe"
   ]
  },
  {
   "cell_type": "markdown",
   "metadata": {},
   "source": [
    "### Query 11 - Group By Date"
   ]
  },
  {
   "cell_type": "markdown",
   "metadata": {},
   "source": [
    "<details>\n",
    "  <summary>Lets group opioid purchases by year:</summary>\n",
    "  \n",
    "  ```\n",
    "SELECT to_char(transaction_date, 'YYYY') as year,\n",
    "       COUNT(w.*) as number_transactions,\n",
    "       SUM(w.dosage_unit) as total_pills\n",
    "FROM west_virginia as w\n",
    "JOIN counties AS c on c.County = w.buyer_county\n",
    "GROUP BY year;\n",
    "  ```\n",
    "</details>"
   ]
  },
  {
   "cell_type": "code",
   "execution_count": null,
   "metadata": {},
   "outputs": [],
   "source": [
    "\n",
    "\n",
    "connection.commit()\n",
    "\n",
    "command = \"\"\"\n",
    "\n",
    "\"\"\"\n",
    "\n",
    "dataframe = pd.read_sql(command, connection)\n",
    "dataframe"
   ]
  },
  {
   "cell_type": "markdown",
   "metadata": {},
   "source": [
    "## What else can you think of?\n",
    "- Which suppliers were most prominant? Per year?\n",
    "- County averages per year? How do we show this?\n",
    "    - Queries can get complicated pretty quick!"
   ]
  },
  {
   "cell_type": "markdown",
   "metadata": {},
   "source": [
    "## Command Line Tricks\n",
    "\n",
    "- end all queries with `;`\n",
    "- `\\timing` to print query execution times in CLI.\n",
    "- `\\d+` to print database information\n",
    "- `\\d+ table_name` to print table information"
   ]
  }
 ],
 "metadata": {
  "kernelspec": {
   "display_name": "Python 3",
   "language": "python",
   "name": "python3"
  },
  "language_info": {
   "codemirror_mode": {
    "name": "ipython",
    "version": 3
   },
   "file_extension": ".py",
   "mimetype": "text/x-python",
   "name": "python",
   "nbconvert_exporter": "python",
   "pygments_lexer": "ipython3",
   "version": "3.6.8"
  }
 },
 "nbformat": 4,
 "nbformat_minor": 2
}
