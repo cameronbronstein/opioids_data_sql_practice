{
 "cells": [
  {
   "cell_type": "markdown",
   "metadata": {},
   "source": [
    "### Opioid Data EDA\n"
   ]
  },
  {
   "cell_type": "code",
   "execution_count": 1,
   "metadata": {},
   "outputs": [],
   "source": [
    "import pandas as pd"
   ]
  },
  {
   "cell_type": "code",
   "execution_count": 2,
   "metadata": {},
   "outputs": [
    {
     "name": "stderr",
     "output_type": "stream",
     "text": [
      "/Library/Frameworks/Python.framework/Versions/3.6/lib/python3.6/site-packages/IPython/core/interactiveshell.py:3057: DtypeWarning: Columns (26) have mixed types. Specify dtype option on import or set low_memory=False.\n",
      "  interactivity=interactivity, compiler=compiler, result=result)\n"
     ]
    }
   ],
   "source": [
    "wv = pd.read_csv('./data/arcos-wv-statewide-itemized.tsv', sep = '\\t')"
   ]
  },
  {
   "cell_type": "code",
   "execution_count": 3,
   "metadata": {
    "scrolled": true
   },
   "outputs": [
    {
     "name": "stdout",
     "output_type": "stream",
     "text": [
      "West Virginia df:  (1879320, 42)\n"
     ]
    }
   ],
   "source": [
    "print('West Virginia df: ', wv.shape)"
   ]
  },
  {
   "cell_type": "code",
   "execution_count": 4,
   "metadata": {},
   "outputs": [
    {
     "data": {
      "text/html": [
       "<div>\n",
       "<style scoped>\n",
       "    .dataframe tbody tr th:only-of-type {\n",
       "        vertical-align: middle;\n",
       "    }\n",
       "\n",
       "    .dataframe tbody tr th {\n",
       "        vertical-align: top;\n",
       "    }\n",
       "\n",
       "    .dataframe thead th {\n",
       "        text-align: right;\n",
       "    }\n",
       "</style>\n",
       "<table border=\"1\" class=\"dataframe\">\n",
       "  <thead>\n",
       "    <tr style=\"text-align: right;\">\n",
       "      <th></th>\n",
       "      <th>REPORTER_DEA_NO</th>\n",
       "      <th>REPORTER_BUS_ACT</th>\n",
       "      <th>REPORTER_NAME</th>\n",
       "      <th>REPORTER_ADDL_CO_INFO</th>\n",
       "      <th>REPORTER_ADDRESS1</th>\n",
       "      <th>REPORTER_ADDRESS2</th>\n",
       "      <th>REPORTER_CITY</th>\n",
       "      <th>REPORTER_STATE</th>\n",
       "      <th>REPORTER_ZIP</th>\n",
       "      <th>REPORTER_COUNTY</th>\n",
       "      <th>...</th>\n",
       "      <th>DOSAGE_UNIT</th>\n",
       "      <th>TRANSACTION_ID</th>\n",
       "      <th>Product_Name</th>\n",
       "      <th>Ingredient_Name</th>\n",
       "      <th>Measure</th>\n",
       "      <th>MME_Conversion_Factor</th>\n",
       "      <th>Combined_Labeler_Name</th>\n",
       "      <th>Revised_Company_Name</th>\n",
       "      <th>Reporter_family</th>\n",
       "      <th>dos_str</th>\n",
       "    </tr>\n",
       "  </thead>\n",
       "  <tbody>\n",
       "    <tr>\n",
       "      <th>0</th>\n",
       "      <td>PB0034861</td>\n",
       "      <td>DISTRIBUTOR</td>\n",
       "      <td>BELLCO DRUG CORP</td>\n",
       "      <td>NaN</td>\n",
       "      <td>5500 NEW HORIZONS BLVD</td>\n",
       "      <td>NaN</td>\n",
       "      <td>NORTH AMITYVILLE</td>\n",
       "      <td>NY</td>\n",
       "      <td>11701</td>\n",
       "      <td>SUFFOLK</td>\n",
       "      <td>...</td>\n",
       "      <td>1000.0</td>\n",
       "      <td>696</td>\n",
       "      <td>HYDROCODONE BITARTRATE AND ACETA 10M</td>\n",
       "      <td>HYDROCODONE BITARTRATE HEMIPENTAHYDRATE</td>\n",
       "      <td>TAB</td>\n",
       "      <td>1.0</td>\n",
       "      <td>Par Pharmaceutical</td>\n",
       "      <td>Endo Pharmaceuticals, Inc.</td>\n",
       "      <td>Bellco Drug Corp</td>\n",
       "      <td>10.0</td>\n",
       "    </tr>\n",
       "    <tr>\n",
       "      <th>1</th>\n",
       "      <td>PB0167127</td>\n",
       "      <td>DISTRIBUTOR</td>\n",
       "      <td>BLOODWORTH WHOLESALE DRUGS</td>\n",
       "      <td>NaN</td>\n",
       "      <td>2128 YANK LAMB DRIVE</td>\n",
       "      <td>P.O. BOX 1849</td>\n",
       "      <td>TIFTON</td>\n",
       "      <td>GA</td>\n",
       "      <td>31793</td>\n",
       "      <td>TIFT</td>\n",
       "      <td>...</td>\n",
       "      <td>500.0</td>\n",
       "      <td>1382</td>\n",
       "      <td>HYDROCODONE BIT. 10MG/ACETAMINOPHEN</td>\n",
       "      <td>HYDROCODONE BITARTRATE HEMIPENTAHYDRATE</td>\n",
       "      <td>TAB</td>\n",
       "      <td>1.0</td>\n",
       "      <td>Actavis Pharma, Inc.</td>\n",
       "      <td>Allergan, Inc.</td>\n",
       "      <td>Bloodworth Wholesale Drugs</td>\n",
       "      <td>10.0</td>\n",
       "    </tr>\n",
       "    <tr>\n",
       "      <th>2</th>\n",
       "      <td>PB0167127</td>\n",
       "      <td>DISTRIBUTOR</td>\n",
       "      <td>BLOODWORTH WHOLESALE DRUGS</td>\n",
       "      <td>NaN</td>\n",
       "      <td>2128 YANK LAMB DRIVE</td>\n",
       "      <td>P.O. BOX 1849</td>\n",
       "      <td>TIFTON</td>\n",
       "      <td>GA</td>\n",
       "      <td>31793</td>\n",
       "      <td>TIFT</td>\n",
       "      <td>...</td>\n",
       "      <td>500.0</td>\n",
       "      <td>3218</td>\n",
       "      <td>HYDROCODONE BIT/ACETA 10MG/500MG USP</td>\n",
       "      <td>HYDROCODONE BITARTRATE HEMIPENTAHYDRATE</td>\n",
       "      <td>TAB</td>\n",
       "      <td>1.0</td>\n",
       "      <td>SpecGx LLC</td>\n",
       "      <td>Mallinckrodt</td>\n",
       "      <td>Bloodworth Wholesale Drugs</td>\n",
       "      <td>10.0</td>\n",
       "    </tr>\n",
       "    <tr>\n",
       "      <th>3</th>\n",
       "      <td>PB0167127</td>\n",
       "      <td>DISTRIBUTOR</td>\n",
       "      <td>BLOODWORTH WHOLESALE DRUGS</td>\n",
       "      <td>NaN</td>\n",
       "      <td>2128 YANK LAMB DRIVE</td>\n",
       "      <td>P.O. BOX 1849</td>\n",
       "      <td>TIFTON</td>\n",
       "      <td>GA</td>\n",
       "      <td>31793</td>\n",
       "      <td>TIFT</td>\n",
       "      <td>...</td>\n",
       "      <td>500.0</td>\n",
       "      <td>1827</td>\n",
       "      <td>HYDROCODONE BITARTRATE &amp; ACETA 5MG/3</td>\n",
       "      <td>HYDROCODONE BITARTRATE HEMIPENTAHYDRATE</td>\n",
       "      <td>TAB</td>\n",
       "      <td>1.0</td>\n",
       "      <td>Sun Pharmaceutical Industries, Inc.</td>\n",
       "      <td>Sun Pharmaceutical Industries, Inc.</td>\n",
       "      <td>Bloodworth Wholesale Drugs</td>\n",
       "      <td>5.0</td>\n",
       "    </tr>\n",
       "    <tr>\n",
       "      <th>4</th>\n",
       "      <td>PB0167127</td>\n",
       "      <td>DISTRIBUTOR</td>\n",
       "      <td>BLOODWORTH WHOLESALE DRUGS</td>\n",
       "      <td>NaN</td>\n",
       "      <td>2128 YANK LAMB DRIVE</td>\n",
       "      <td>P.O. BOX 1849</td>\n",
       "      <td>TIFTON</td>\n",
       "      <td>GA</td>\n",
       "      <td>31793</td>\n",
       "      <td>TIFT</td>\n",
       "      <td>...</td>\n",
       "      <td>500.0</td>\n",
       "      <td>4105</td>\n",
       "      <td>HYDROCODONE BITARTRATE &amp; ACETA 5MG/3</td>\n",
       "      <td>HYDROCODONE BITARTRATE HEMIPENTAHYDRATE</td>\n",
       "      <td>TAB</td>\n",
       "      <td>1.0</td>\n",
       "      <td>Sun Pharmaceutical Industries, Inc.</td>\n",
       "      <td>Sun Pharmaceutical Industries, Inc.</td>\n",
       "      <td>Bloodworth Wholesale Drugs</td>\n",
       "      <td>5.0</td>\n",
       "    </tr>\n",
       "  </tbody>\n",
       "</table>\n",
       "<p>5 rows × 42 columns</p>\n",
       "</div>"
      ],
      "text/plain": [
       "  REPORTER_DEA_NO REPORTER_BUS_ACT               REPORTER_NAME  \\\n",
       "0       PB0034861      DISTRIBUTOR            BELLCO DRUG CORP   \n",
       "1       PB0167127      DISTRIBUTOR  BLOODWORTH WHOLESALE DRUGS   \n",
       "2       PB0167127      DISTRIBUTOR  BLOODWORTH WHOLESALE DRUGS   \n",
       "3       PB0167127      DISTRIBUTOR  BLOODWORTH WHOLESALE DRUGS   \n",
       "4       PB0167127      DISTRIBUTOR  BLOODWORTH WHOLESALE DRUGS   \n",
       "\n",
       "  REPORTER_ADDL_CO_INFO       REPORTER_ADDRESS1 REPORTER_ADDRESS2  \\\n",
       "0                   NaN  5500 NEW HORIZONS BLVD               NaN   \n",
       "1                   NaN    2128 YANK LAMB DRIVE     P.O. BOX 1849   \n",
       "2                   NaN    2128 YANK LAMB DRIVE     P.O. BOX 1849   \n",
       "3                   NaN    2128 YANK LAMB DRIVE     P.O. BOX 1849   \n",
       "4                   NaN    2128 YANK LAMB DRIVE     P.O. BOX 1849   \n",
       "\n",
       "      REPORTER_CITY REPORTER_STATE  REPORTER_ZIP REPORTER_COUNTY  ...  \\\n",
       "0  NORTH AMITYVILLE             NY         11701         SUFFOLK  ...   \n",
       "1            TIFTON             GA         31793            TIFT  ...   \n",
       "2            TIFTON             GA         31793            TIFT  ...   \n",
       "3            TIFTON             GA         31793            TIFT  ...   \n",
       "4            TIFTON             GA         31793            TIFT  ...   \n",
       "\n",
       "  DOSAGE_UNIT TRANSACTION_ID                          Product_Name  \\\n",
       "0      1000.0            696  HYDROCODONE BITARTRATE AND ACETA 10M   \n",
       "1       500.0           1382   HYDROCODONE BIT. 10MG/ACETAMINOPHEN   \n",
       "2       500.0           3218  HYDROCODONE BIT/ACETA 10MG/500MG USP   \n",
       "3       500.0           1827  HYDROCODONE BITARTRATE & ACETA 5MG/3   \n",
       "4       500.0           4105  HYDROCODONE BITARTRATE & ACETA 5MG/3   \n",
       "\n",
       "                           Ingredient_Name Measure MME_Conversion_Factor  \\\n",
       "0  HYDROCODONE BITARTRATE HEMIPENTAHYDRATE     TAB                   1.0   \n",
       "1  HYDROCODONE BITARTRATE HEMIPENTAHYDRATE     TAB                   1.0   \n",
       "2  HYDROCODONE BITARTRATE HEMIPENTAHYDRATE     TAB                   1.0   \n",
       "3  HYDROCODONE BITARTRATE HEMIPENTAHYDRATE     TAB                   1.0   \n",
       "4  HYDROCODONE BITARTRATE HEMIPENTAHYDRATE     TAB                   1.0   \n",
       "\n",
       "                 Combined_Labeler_Name                 Revised_Company_Name  \\\n",
       "0                   Par Pharmaceutical           Endo Pharmaceuticals, Inc.   \n",
       "1                 Actavis Pharma, Inc.                       Allergan, Inc.   \n",
       "2                           SpecGx LLC                         Mallinckrodt   \n",
       "3  Sun Pharmaceutical Industries, Inc.  Sun Pharmaceutical Industries, Inc.   \n",
       "4  Sun Pharmaceutical Industries, Inc.  Sun Pharmaceutical Industries, Inc.   \n",
       "\n",
       "              Reporter_family dos_str  \n",
       "0            Bellco Drug Corp    10.0  \n",
       "1  Bloodworth Wholesale Drugs    10.0  \n",
       "2  Bloodworth Wholesale Drugs    10.0  \n",
       "3  Bloodworth Wholesale Drugs     5.0  \n",
       "4  Bloodworth Wholesale Drugs     5.0  \n",
       "\n",
       "[5 rows x 42 columns]"
      ]
     },
     "execution_count": 4,
     "metadata": {},
     "output_type": "execute_result"
    }
   ],
   "source": [
    "wv.head()"
   ]
  },
  {
   "cell_type": "code",
   "execution_count": 5,
   "metadata": {
    "scrolled": true
   },
   "outputs": [
    {
     "name": "stdout",
     "output_type": "stream",
     "text": [
      "<class 'pandas.core.frame.DataFrame'>\n",
      "RangeIndex: 1879320 entries, 0 to 1879319\n",
      "Data columns (total 42 columns):\n",
      "REPORTER_DEA_NO          object\n",
      "REPORTER_BUS_ACT         object\n",
      "REPORTER_NAME            object\n",
      "REPORTER_ADDL_CO_INFO    object\n",
      "REPORTER_ADDRESS1        object\n",
      "REPORTER_ADDRESS2        object\n",
      "REPORTER_CITY            object\n",
      "REPORTER_STATE           object\n",
      "REPORTER_ZIP             int64\n",
      "REPORTER_COUNTY          object\n",
      "BUYER_DEA_NO             object\n",
      "BUYER_BUS_ACT            object\n",
      "BUYER_NAME               object\n",
      "BUYER_ADDL_CO_INFO       object\n",
      "BUYER_ADDRESS1           object\n",
      "BUYER_ADDRESS2           object\n",
      "BUYER_CITY               object\n",
      "BUYER_STATE              object\n",
      "BUYER_ZIP                int64\n",
      "BUYER_COUNTY             object\n",
      "TRANSACTION_CODE         object\n",
      "DRUG_CODE                int64\n",
      "NDC_NO                   int64\n",
      "DRUG_NAME                object\n",
      "QUANTITY                 float64\n",
      "UNIT                     float64\n",
      "ACTION_INDICATOR         object\n",
      "ORDER_FORM_NO            object\n",
      "CORRECTION_NO            float64\n",
      "STRENGTH                 float64\n",
      "TRANSACTION_DATE         int64\n",
      "CALC_BASE_WT_IN_GM       float64\n",
      "DOSAGE_UNIT              float64\n",
      "TRANSACTION_ID           int64\n",
      "Product_Name             object\n",
      "Ingredient_Name          object\n",
      "Measure                  object\n",
      "MME_Conversion_Factor    float64\n",
      "Combined_Labeler_Name    object\n",
      "Revised_Company_Name     object\n",
      "Reporter_family          object\n",
      "dos_str                  float64\n",
      "dtypes: float64(8), int64(6), object(28)\n",
      "memory usage: 602.2+ MB\n"
     ]
    }
   ],
   "source": [
    "wv.info()"
   ]
  },
  {
   "cell_type": "code",
   "execution_count": 6,
   "metadata": {},
   "outputs": [
    {
     "name": "stdout",
     "output_type": "stream",
     "text": [
      "REPORTER_ADDL_CO_INFO 1670648\n",
      "REPORTER_ADDRESS2 1167894\n",
      "BUYER_ADDL_CO_INFO 1117010\n",
      "BUYER_ADDRESS2 1458572\n",
      "UNIT 1879320\n",
      "ACTION_INDICATOR 1879092\n",
      "ORDER_FORM_NO 1259001\n",
      "CORRECTION_NO 1879151\n",
      "STRENGTH 1468715\n",
      "Combined_Labeler_Name 103\n",
      "Revised_Company_Name 103\n",
      "dos_str 1147\n"
     ]
    }
   ],
   "source": [
    "# dropping all columns with \n",
    "columns_to_drop = []\n",
    "\n",
    "for i in wv.columns:\n",
    "    if wv[i].isnull().sum() > 1000:\n",
    "        print(i, wv[i].isnull().sum())\n",
    "        columns_to_drop.append(i)\n",
    "    elif wv[i].isnull().sum() > 0:\n",
    "        print(i, wv[i].isnull().sum())\n",
    "    else:\n",
    "        pass"
   ]
  },
  {
   "cell_type": "markdown",
   "metadata": {},
   "source": [
    "### Drop columns with many nulls"
   ]
  },
  {
   "cell_type": "code",
   "execution_count": 7,
   "metadata": {},
   "outputs": [
    {
     "name": "stdout",
     "output_type": "stream",
     "text": [
      "['REPORTER_ADDL_CO_INFO', 'REPORTER_ADDRESS2', 'BUYER_ADDL_CO_INFO', 'BUYER_ADDRESS2', 'UNIT', 'ACTION_INDICATOR', 'ORDER_FORM_NO', 'CORRECTION_NO', 'STRENGTH', 'dos_str']\n"
     ]
    }
   ],
   "source": [
    "wv.drop(columns = columns_to_drop, inplace = True)\n",
    "\n",
    "print(columns_to_drop)"
   ]
  },
  {
   "cell_type": "markdown",
   "metadata": {},
   "source": [
    "### Concatenate Addresses and drop other columns"
   ]
  },
  {
   "cell_type": "code",
   "execution_count": 8,
   "metadata": {},
   "outputs": [],
   "source": [
    "# changing zip codes to str\n",
    "wv['REPORTER_ZIP'] = wv['REPORTER_ZIP'].astype(str)\n",
    "wv['BUYER_ZIP'] = wv['BUYER_ZIP'].astype(str)"
   ]
  },
  {
   "cell_type": "code",
   "execution_count": 9,
   "metadata": {},
   "outputs": [],
   "source": [
    "# creating a full address for reporter and buyer\n",
    "wv['reporter_address'] = (wv['REPORTER_ADDRESS1'] + ', ' +\n",
    "                              wv['REPORTER_CITY'] + ', ' +\n",
    "                              wv['REPORTER_STATE'] + ' ' +\n",
    "                              wv['REPORTER_ZIP'])\n",
    "\n",
    "wv['buyer_address'] = (wv['BUYER_ADDRESS1'] + ', ' +\n",
    "                              wv['BUYER_CITY'] + ', ' +\n",
    "                              wv['BUYER_STATE'] + ' ' +\n",
    "                              wv['BUYER_ZIP'])"
   ]
  },
  {
   "cell_type": "code",
   "execution_count": 10,
   "metadata": {},
   "outputs": [
    {
     "data": {
      "text/html": [
       "<div>\n",
       "<style scoped>\n",
       "    .dataframe tbody tr th:only-of-type {\n",
       "        vertical-align: middle;\n",
       "    }\n",
       "\n",
       "    .dataframe tbody tr th {\n",
       "        vertical-align: top;\n",
       "    }\n",
       "\n",
       "    .dataframe thead th {\n",
       "        text-align: right;\n",
       "    }\n",
       "</style>\n",
       "<table border=\"1\" class=\"dataframe\">\n",
       "  <thead>\n",
       "    <tr style=\"text-align: right;\">\n",
       "      <th></th>\n",
       "      <th>reporter_address</th>\n",
       "      <th>buyer_address</th>\n",
       "    </tr>\n",
       "  </thead>\n",
       "  <tbody>\n",
       "    <tr>\n",
       "      <th>0</th>\n",
       "      <td>5500 NEW HORIZONS BLVD, NORTH AMITYVILLE, NY 1...</td>\n",
       "      <td>215 35TH STREET, SE, CHARLESTON, WV 25304</td>\n",
       "    </tr>\n",
       "    <tr>\n",
       "      <th>1</th>\n",
       "      <td>2128 YANK LAMB DRIVE, TIFTON, GA 31793</td>\n",
       "      <td>2810 ROBERT C BYRD DRIVE, BECKLEY, WV 25801</td>\n",
       "    </tr>\n",
       "    <tr>\n",
       "      <th>2</th>\n",
       "      <td>2128 YANK LAMB DRIVE, TIFTON, GA 31793</td>\n",
       "      <td>2810 ROBERT C BYRD DRIVE, BECKLEY, WV 25801</td>\n",
       "    </tr>\n",
       "    <tr>\n",
       "      <th>3</th>\n",
       "      <td>2128 YANK LAMB DRIVE, TIFTON, GA 31793</td>\n",
       "      <td>2810 ROBERT C BYRD DRIVE, BECKLEY, WV 25801</td>\n",
       "    </tr>\n",
       "    <tr>\n",
       "      <th>4</th>\n",
       "      <td>2128 YANK LAMB DRIVE, TIFTON, GA 31793</td>\n",
       "      <td>2810 ROBERT C BYRD DRIVE, BECKLEY, WV 25801</td>\n",
       "    </tr>\n",
       "  </tbody>\n",
       "</table>\n",
       "</div>"
      ],
      "text/plain": [
       "                                    reporter_address  \\\n",
       "0  5500 NEW HORIZONS BLVD, NORTH AMITYVILLE, NY 1...   \n",
       "1             2128 YANK LAMB DRIVE, TIFTON, GA 31793   \n",
       "2             2128 YANK LAMB DRIVE, TIFTON, GA 31793   \n",
       "3             2128 YANK LAMB DRIVE, TIFTON, GA 31793   \n",
       "4             2128 YANK LAMB DRIVE, TIFTON, GA 31793   \n",
       "\n",
       "                                 buyer_address  \n",
       "0    215 35TH STREET, SE, CHARLESTON, WV 25304  \n",
       "1  2810 ROBERT C BYRD DRIVE, BECKLEY, WV 25801  \n",
       "2  2810 ROBERT C BYRD DRIVE, BECKLEY, WV 25801  \n",
       "3  2810 ROBERT C BYRD DRIVE, BECKLEY, WV 25801  \n",
       "4  2810 ROBERT C BYRD DRIVE, BECKLEY, WV 25801  "
      ]
     },
     "execution_count": 10,
     "metadata": {},
     "output_type": "execute_result"
    }
   ],
   "source": [
    "# Looks good!\n",
    "wv[['reporter_address', 'buyer_address']].head()"
   ]
  },
  {
   "cell_type": "code",
   "execution_count": 11,
   "metadata": {},
   "outputs": [
    {
     "name": "stdout",
     "output_type": "stream",
     "text": [
      "Number of columns:  26\n"
     ]
    }
   ],
   "source": [
    "# drop other address columns \n",
    "wv.drop(columns = [i for i in wv.columns if 'CITY' in i or 'ZIP' in i or 'STATE' in i or 'ADDRESS' in i],\n",
    "        inplace = True)\n",
    "\n",
    "print('Number of columns: ', wv.shape[1])"
   ]
  },
  {
   "cell_type": "markdown",
   "metadata": {},
   "source": [
    "**Converting `TRANSACTION_DATE` to `datetime` format**"
   ]
  },
  {
   "cell_type": "code",
   "execution_count": 12,
   "metadata": {
    "scrolled": true
   },
   "outputs": [
    {
     "data": {
      "text/plain": [
       "0     6022006\n",
       "1    11102011\n",
       "2     3232012\n",
       "3     5092012\n",
       "4     6292012\n",
       "Name: TRANSACTION_DATE, dtype: int64"
      ]
     },
     "execution_count": 12,
     "metadata": {},
     "output_type": "execute_result"
    }
   ],
   "source": [
    "wv['TRANSACTION_DATE'].head()"
   ]
  },
  {
   "cell_type": "code",
   "execution_count": 13,
   "metadata": {},
   "outputs": [],
   "source": [
    "def convert_to_datetime(x):\n",
    "    x = str(x)\n",
    "        \n",
    "    if len(x) < 8:\n",
    "        month = '0' + x[0]\n",
    "        day = x[1:3]\n",
    "        year = x[-4:]\n",
    "        \n",
    "        return int(year + month + day)\n",
    "    \n",
    "    else:\n",
    "        month = x[0:2]\n",
    "        day = x[2:4]\n",
    "        year = x[4:]\n",
    "    \n",
    "        return int(year + month + day)"
   ]
  },
  {
   "cell_type": "code",
   "execution_count": 14,
   "metadata": {},
   "outputs": [],
   "source": [
    "wv['TRANSACTION_DATE'] = wv['TRANSACTION_DATE'].map(convert_to_datetime)"
   ]
  },
  {
   "cell_type": "markdown",
   "metadata": {},
   "source": [
    "##### What drugs are we talking about?"
   ]
  },
  {
   "cell_type": "code",
   "execution_count": 15,
   "metadata": {
    "scrolled": false
   },
   "outputs": [
    {
     "data": {
      "text/plain": [
       "HYDROCODONE BITARTRATE HEMIPENTAHYDRATE    1259229\n",
       "OXYCODONE HYDROCHLORIDE                     620091\n",
       "Name: Ingredient_Name, dtype: int64"
      ]
     },
     "execution_count": 15,
     "metadata": {},
     "output_type": "execute_result"
    }
   ],
   "source": [
    "# Hydrocodone & Oxycodone\n",
    "\n",
    "wv['Ingredient_Name'].value_counts()"
   ]
  },
  {
   "cell_type": "markdown",
   "metadata": {},
   "source": [
    "### Looking at the remaining columns"
   ]
  },
  {
   "cell_type": "code",
   "execution_count": 16,
   "metadata": {},
   "outputs": [],
   "source": [
    "# after some EDA, I chose to drop these columns\n",
    "more_to_drop = ['DRUG_CODE', 'DRUG_NAME', 'MME_Conversion_Factor', 'Measure', \n",
    "                'NDC_NO', 'REPORTER_BUS_ACT', 'REPORTER_NAME', 'REPORTER_COUNTY',\n",
    "                'REPORTER_DEA_NO', 'BUYER_DEA_NO', 'TRANSACTION_CODE', 'TRANSACTION_ID']"
   ]
  },
  {
   "cell_type": "code",
   "execution_count": 17,
   "metadata": {},
   "outputs": [
    {
     "name": "stdout",
     "output_type": "stream",
     "text": [
      "Number of columns:  14\n"
     ]
    }
   ],
   "source": [
    "wv.drop(columns = more_to_drop, inplace = True)\n",
    "print('Number of columns: ', wv.shape[1])"
   ]
  },
  {
   "cell_type": "code",
   "execution_count": 18,
   "metadata": {},
   "outputs": [],
   "source": [
    "# changing order of columns\n",
    "wv = wv[['TRANSACTION_DATE', 'Reporter_family', 'reporter_address', 'BUYER_NAME', 'BUYER_BUS_ACT', \n",
    "         'buyer_address', 'BUYER_COUNTY', 'Product_Name', 'Ingredient_Name', 'DOSAGE_UNIT', 'QUANTITY', \n",
    "         'CALC_BASE_WT_IN_GM', 'Combined_Labeler_Name', 'Revised_Company_Name']]"
   ]
  },
  {
   "cell_type": "code",
   "execution_count": 19,
   "metadata": {},
   "outputs": [
    {
     "data": {
      "text/html": [
       "<div>\n",
       "<style scoped>\n",
       "    .dataframe tbody tr th:only-of-type {\n",
       "        vertical-align: middle;\n",
       "    }\n",
       "\n",
       "    .dataframe tbody tr th {\n",
       "        vertical-align: top;\n",
       "    }\n",
       "\n",
       "    .dataframe thead th {\n",
       "        text-align: right;\n",
       "    }\n",
       "</style>\n",
       "<table border=\"1\" class=\"dataframe\">\n",
       "  <thead>\n",
       "    <tr style=\"text-align: right;\">\n",
       "      <th></th>\n",
       "      <th>TRANSACTION_DATE</th>\n",
       "      <th>Reporter_family</th>\n",
       "      <th>reporter_address</th>\n",
       "      <th>BUYER_NAME</th>\n",
       "      <th>BUYER_BUS_ACT</th>\n",
       "      <th>buyer_address</th>\n",
       "      <th>BUYER_COUNTY</th>\n",
       "      <th>Product_Name</th>\n",
       "      <th>Ingredient_Name</th>\n",
       "      <th>DOSAGE_UNIT</th>\n",
       "      <th>QUANTITY</th>\n",
       "      <th>CALC_BASE_WT_IN_GM</th>\n",
       "      <th>Combined_Labeler_Name</th>\n",
       "      <th>Revised_Company_Name</th>\n",
       "    </tr>\n",
       "  </thead>\n",
       "  <tbody>\n",
       "    <tr>\n",
       "      <th>0</th>\n",
       "      <td>20060602</td>\n",
       "      <td>Bellco Drug Corp</td>\n",
       "      <td>5500 NEW HORIZONS BLVD, NORTH AMITYVILLE, NY 1...</td>\n",
       "      <td>TRIVILLIAN'S PHAR OF KANAWHA</td>\n",
       "      <td>RETAIL PHARMACY</td>\n",
       "      <td>215 35TH STREET, SE, CHARLESTON, WV 25304</td>\n",
       "      <td>KANAWHA</td>\n",
       "      <td>HYDROCODONE BITARTRATE AND ACETA 10M</td>\n",
       "      <td>HYDROCODONE BITARTRATE HEMIPENTAHYDRATE</td>\n",
       "      <td>1000.0</td>\n",
       "      <td>2.0</td>\n",
       "      <td>6.0540</td>\n",
       "      <td>Par Pharmaceutical</td>\n",
       "      <td>Endo Pharmaceuticals, Inc.</td>\n",
       "    </tr>\n",
       "    <tr>\n",
       "      <th>1</th>\n",
       "      <td>20111110</td>\n",
       "      <td>Bloodworth Wholesale Drugs</td>\n",
       "      <td>2128 YANK LAMB DRIVE, TIFTON, GA 31793</td>\n",
       "      <td>COLONY DRUG</td>\n",
       "      <td>RETAIL PHARMACY</td>\n",
       "      <td>2810 ROBERT C BYRD DRIVE, BECKLEY, WV 25801</td>\n",
       "      <td>RALEIGH</td>\n",
       "      <td>HYDROCODONE BIT. 10MG/ACETAMINOPHEN</td>\n",
       "      <td>HYDROCODONE BITARTRATE HEMIPENTAHYDRATE</td>\n",
       "      <td>500.0</td>\n",
       "      <td>1.0</td>\n",
       "      <td>3.0270</td>\n",
       "      <td>Actavis Pharma, Inc.</td>\n",
       "      <td>Allergan, Inc.</td>\n",
       "    </tr>\n",
       "    <tr>\n",
       "      <th>2</th>\n",
       "      <td>20120323</td>\n",
       "      <td>Bloodworth Wholesale Drugs</td>\n",
       "      <td>2128 YANK LAMB DRIVE, TIFTON, GA 31793</td>\n",
       "      <td>COLONY DRUG</td>\n",
       "      <td>RETAIL PHARMACY</td>\n",
       "      <td>2810 ROBERT C BYRD DRIVE, BECKLEY, WV 25801</td>\n",
       "      <td>RALEIGH</td>\n",
       "      <td>HYDROCODONE BIT/ACETA 10MG/500MG USP</td>\n",
       "      <td>HYDROCODONE BITARTRATE HEMIPENTAHYDRATE</td>\n",
       "      <td>500.0</td>\n",
       "      <td>1.0</td>\n",
       "      <td>3.0270</td>\n",
       "      <td>SpecGx LLC</td>\n",
       "      <td>Mallinckrodt</td>\n",
       "    </tr>\n",
       "    <tr>\n",
       "      <th>3</th>\n",
       "      <td>20120509</td>\n",
       "      <td>Bloodworth Wholesale Drugs</td>\n",
       "      <td>2128 YANK LAMB DRIVE, TIFTON, GA 31793</td>\n",
       "      <td>COLONY DRUG</td>\n",
       "      <td>RETAIL PHARMACY</td>\n",
       "      <td>2810 ROBERT C BYRD DRIVE, BECKLEY, WV 25801</td>\n",
       "      <td>RALEIGH</td>\n",
       "      <td>HYDROCODONE BITARTRATE &amp; ACETA 5MG/3</td>\n",
       "      <td>HYDROCODONE BITARTRATE HEMIPENTAHYDRATE</td>\n",
       "      <td>500.0</td>\n",
       "      <td>1.0</td>\n",
       "      <td>1.5135</td>\n",
       "      <td>Sun Pharmaceutical Industries, Inc.</td>\n",
       "      <td>Sun Pharmaceutical Industries, Inc.</td>\n",
       "    </tr>\n",
       "    <tr>\n",
       "      <th>4</th>\n",
       "      <td>20120629</td>\n",
       "      <td>Bloodworth Wholesale Drugs</td>\n",
       "      <td>2128 YANK LAMB DRIVE, TIFTON, GA 31793</td>\n",
       "      <td>COLONY DRUG</td>\n",
       "      <td>RETAIL PHARMACY</td>\n",
       "      <td>2810 ROBERT C BYRD DRIVE, BECKLEY, WV 25801</td>\n",
       "      <td>RALEIGH</td>\n",
       "      <td>HYDROCODONE BITARTRATE &amp; ACETA 5MG/3</td>\n",
       "      <td>HYDROCODONE BITARTRATE HEMIPENTAHYDRATE</td>\n",
       "      <td>500.0</td>\n",
       "      <td>1.0</td>\n",
       "      <td>1.5135</td>\n",
       "      <td>Sun Pharmaceutical Industries, Inc.</td>\n",
       "      <td>Sun Pharmaceutical Industries, Inc.</td>\n",
       "    </tr>\n",
       "  </tbody>\n",
       "</table>\n",
       "</div>"
      ],
      "text/plain": [
       "   TRANSACTION_DATE             Reporter_family  \\\n",
       "0          20060602            Bellco Drug Corp   \n",
       "1          20111110  Bloodworth Wholesale Drugs   \n",
       "2          20120323  Bloodworth Wholesale Drugs   \n",
       "3          20120509  Bloodworth Wholesale Drugs   \n",
       "4          20120629  Bloodworth Wholesale Drugs   \n",
       "\n",
       "                                    reporter_address  \\\n",
       "0  5500 NEW HORIZONS BLVD, NORTH AMITYVILLE, NY 1...   \n",
       "1             2128 YANK LAMB DRIVE, TIFTON, GA 31793   \n",
       "2             2128 YANK LAMB DRIVE, TIFTON, GA 31793   \n",
       "3             2128 YANK LAMB DRIVE, TIFTON, GA 31793   \n",
       "4             2128 YANK LAMB DRIVE, TIFTON, GA 31793   \n",
       "\n",
       "                     BUYER_NAME    BUYER_BUS_ACT  \\\n",
       "0  TRIVILLIAN'S PHAR OF KANAWHA  RETAIL PHARMACY   \n",
       "1                   COLONY DRUG  RETAIL PHARMACY   \n",
       "2                   COLONY DRUG  RETAIL PHARMACY   \n",
       "3                   COLONY DRUG  RETAIL PHARMACY   \n",
       "4                   COLONY DRUG  RETAIL PHARMACY   \n",
       "\n",
       "                                 buyer_address BUYER_COUNTY  \\\n",
       "0    215 35TH STREET, SE, CHARLESTON, WV 25304      KANAWHA   \n",
       "1  2810 ROBERT C BYRD DRIVE, BECKLEY, WV 25801      RALEIGH   \n",
       "2  2810 ROBERT C BYRD DRIVE, BECKLEY, WV 25801      RALEIGH   \n",
       "3  2810 ROBERT C BYRD DRIVE, BECKLEY, WV 25801      RALEIGH   \n",
       "4  2810 ROBERT C BYRD DRIVE, BECKLEY, WV 25801      RALEIGH   \n",
       "\n",
       "                           Product_Name  \\\n",
       "0  HYDROCODONE BITARTRATE AND ACETA 10M   \n",
       "1   HYDROCODONE BIT. 10MG/ACETAMINOPHEN   \n",
       "2  HYDROCODONE BIT/ACETA 10MG/500MG USP   \n",
       "3  HYDROCODONE BITARTRATE & ACETA 5MG/3   \n",
       "4  HYDROCODONE BITARTRATE & ACETA 5MG/3   \n",
       "\n",
       "                           Ingredient_Name  DOSAGE_UNIT  QUANTITY  \\\n",
       "0  HYDROCODONE BITARTRATE HEMIPENTAHYDRATE       1000.0       2.0   \n",
       "1  HYDROCODONE BITARTRATE HEMIPENTAHYDRATE        500.0       1.0   \n",
       "2  HYDROCODONE BITARTRATE HEMIPENTAHYDRATE        500.0       1.0   \n",
       "3  HYDROCODONE BITARTRATE HEMIPENTAHYDRATE        500.0       1.0   \n",
       "4  HYDROCODONE BITARTRATE HEMIPENTAHYDRATE        500.0       1.0   \n",
       "\n",
       "   CALC_BASE_WT_IN_GM                Combined_Labeler_Name  \\\n",
       "0              6.0540                   Par Pharmaceutical   \n",
       "1              3.0270                 Actavis Pharma, Inc.   \n",
       "2              3.0270                           SpecGx LLC   \n",
       "3              1.5135  Sun Pharmaceutical Industries, Inc.   \n",
       "4              1.5135  Sun Pharmaceutical Industries, Inc.   \n",
       "\n",
       "                  Revised_Company_Name  \n",
       "0           Endo Pharmaceuticals, Inc.  \n",
       "1                       Allergan, Inc.  \n",
       "2                         Mallinckrodt  \n",
       "3  Sun Pharmaceutical Industries, Inc.  \n",
       "4  Sun Pharmaceutical Industries, Inc.  "
      ]
     },
     "execution_count": 19,
     "metadata": {},
     "output_type": "execute_result"
    }
   ],
   "source": [
    "wv.head()"
   ]
  },
  {
   "cell_type": "code",
   "execution_count": 20,
   "metadata": {},
   "outputs": [],
   "source": [
    "wv.to_csv('./data/west_virginia_for_lesson.tsv', sep = '\\t', index = False)"
   ]
  }
 ],
 "metadata": {
  "kernelspec": {
   "display_name": "Python 3",
   "language": "python",
   "name": "python3"
  },
  "language_info": {
   "codemirror_mode": {
    "name": "ipython",
    "version": 3
   },
   "file_extension": ".py",
   "mimetype": "text/x-python",
   "name": "python",
   "nbconvert_exporter": "python",
   "pygments_lexer": "ipython3",
   "version": "3.6.8"
  }
 },
 "nbformat": 4,
 "nbformat_minor": 2
}
