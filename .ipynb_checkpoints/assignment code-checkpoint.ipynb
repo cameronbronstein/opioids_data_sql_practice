{
 "cells": [
  {
   "cell_type": "markdown",
   "metadata": {},
   "source": [
    "Programming assignment\n",
    "\n",
    "1. File `data.csv.gz` contains transportation costs between municipalities in Brazil. Load the data from this file into a PostgreSQL database, in a table named `costs` with the following columns: `orig_id`, `dest_id`, `cost`, with values read from columns of the same names in the csv file.\n",
    "\n",
    "\n",
    "2. Python package `transportation_cost` contains functions to retrieve data from the database of transportation costs in module `helpers.py`. Implement the function `helpers.connect_to_db`, which returns a cursor connected to the database. Use package `psycopg2` to connect to the PostgreSQL database, with cursor `psycopg2.extensions.cursor`.\n",
    "\n",
    "\n",
    "3. Script `main.py` runs the functions from module `helpers.py` in a sequence. It simulates the type of queries that would need to be performed while running a supply chain model, by repeatedly looking for the transportation cost between a subset of municipalities, and searching for the destination with the lowest transportation cost (referred to as the \"closest\", for simplicity) within a list of possible destinations. Functions `helpers.get_distance_slow` and `helpers.get_closest_slow` are supposed to perform these operations, but they run into issues with certain input values. Identify and fix the bug(s) with these functions.\n",
    "\n",
    "\n",
    "4. The functions as they are implemented are quite inefficient. Try to improve the performance of the code with your own implementation: `helpers.get_distance_fast` and `helpers.get_closest_fast`. In the course of running the script `main.py`, information about execution time will be printed, so that you can monitor the performance of your implementation. Please add comments to your code to explain the rationale and discuss pros and cons of your solution, as well as other ideas you may have to improve performance.\n",
    "\n",
    "\n",
    "5. Create a database dump for the database that you used for this assignment (using `pg_dump`).\n",
    "\n",
    "Please provide your answer as a compressed file containing the Python package and the database dump.\n"
   ]
  },
  {
   "cell_type": "markdown",
   "metadata": {},
   "source": [
    "By randomly generating the input, this could create pairs that aren't possible for query.\n",
    "\n",
    "Input values might not map to actual rows in the dataset; query return null.\n",
    "Test possible cases for these functions to fail."
   ]
  },
  {
   "cell_type": "code",
   "execution_count": 44,
   "metadata": {},
   "outputs": [],
   "source": [
    "import psycopg2"
   ]
  },
  {
   "cell_type": "code",
   "execution_count": 45,
   "metadata": {},
   "outputs": [],
   "source": [
    "conn = psycopg2.connect(host = \"localhost\", dbname = \"postgres\", user = \"postgres\")\n",
    "cur = conn.cursor()"
   ]
  },
  {
   "cell_type": "code",
   "execution_count": 47,
   "metadata": {},
   "outputs": [
    {
     "ename": "ProgrammingError",
     "evalue": "relation \"costs\" already exists\n",
     "output_type": "error",
     "traceback": [
      "\u001b[0;31m---------------------------------------------------------------------------\u001b[0m",
      "\u001b[0;31mProgrammingError\u001b[0m                          Traceback (most recent call last)",
      "\u001b[0;32m<ipython-input-47-62e79a40cd6b>\u001b[0m in \u001b[0;36m<module>\u001b[0;34m\u001b[0m\n\u001b[1;32m      6\u001b[0m \"\"\"\n\u001b[1;32m      7\u001b[0m \u001b[0;34m\u001b[0m\u001b[0m\n\u001b[0;32m----> 8\u001b[0;31m \u001b[0mcur\u001b[0m\u001b[0;34m.\u001b[0m\u001b[0mexecute\u001b[0m\u001b[0;34m(\u001b[0m\u001b[0mcommand\u001b[0m\u001b[0;34m)\u001b[0m\u001b[0;34m\u001b[0m\u001b[0;34m\u001b[0m\u001b[0m\n\u001b[0m\u001b[1;32m      9\u001b[0m \u001b[0;34m\u001b[0m\u001b[0m\n\u001b[1;32m     10\u001b[0m \u001b[0;32mwith\u001b[0m \u001b[0mopen\u001b[0m\u001b[0;34m(\u001b[0m\u001b[0;34m\"./data.csv\"\u001b[0m\u001b[0;34m)\u001b[0m \u001b[0;32mas\u001b[0m \u001b[0mf\u001b[0m\u001b[0;34m:\u001b[0m\u001b[0;34m\u001b[0m\u001b[0;34m\u001b[0m\u001b[0m\n",
      "\u001b[0;31mProgrammingError\u001b[0m: relation \"costs\" already exists\n"
     ]
    }
   ],
   "source": [
    "command = \"\"\"\n",
    "CREATE TABLE costs(\n",
    "orig_id integer, \n",
    "dest_id integer, \n",
    "cost float)\n",
    "\"\"\"\n",
    "\n",
    "cur.execute(command)\n",
    "\n",
    "with open(\"./data.csv\") as f:\n",
    "    next(f)\n",
    "    cur.copy_from(f, 'costs', sep=';')\n",
    "conn.commit()"
   ]
  },
  {
   "cell_type": "code",
   "execution_count": 356,
   "metadata": {},
   "outputs": [
    {
     "name": "stdout",
     "output_type": "stream",
     "text": [
      "Initializing test dataset...\n",
      "Running get_distance_slow...\n"
     ]
    }
   ],
   "source": [
    "conn = psycopg2.connect(host = \"localhost\", dbname = \"postgres\", user = \"postgres\")\n",
    "CUR = conn.cursor()\n",
    "\n",
    "print(\"Initializing test dataset...\")\n",
    "query = (\n",
    "    \"SELECT DISTINCT orig_id \"         # distinct origin ids\n",
    "    \"FROM costs\")\n",
    "CUR.execute(query)\n",
    "all_orig_ids = [\n",
    "    orig_id\n",
    "    for (orig_id,)\n",
    "    in CUR.fetchall()]\n",
    "subset_orig_ids = [\n",
    "    choice(all_orig_ids)\n",
    "    for _\n",
    "    in range(N)]\n",
    "\n",
    "\"\"\"\n",
    "This query could generate subset\n",
    "\"\"\"\n",
    "\n",
    "query = (\n",
    "    \"SELECT DISTINCT dest_id \"\n",
    "    \"FROM costs\")\n",
    "CUR.execute(query)\n",
    "all_dest_ids = [\n",
    "    dest_id\n",
    "    for (dest_id,)\n",
    "    in CUR.fetchall()]\n",
    "subset_dest_ids = [\n",
    "    choice(all_dest_ids)\n",
    "    for _\n",
    "    in range(N)]\n",
    "\n",
    "\"\"\"\n",
    "By using choice to form test_distance set\n",
    "and test closest set, it is possible to be\n",
    "searching for a cost associated with orig-dest\n",
    "pairs that aren't actually in the table.\n",
    "To remedy this, \n",
    "\"\"\"\n",
    "test_distance_set = [\n",
    "    (choice(subset_orig_ids),\n",
    "     choice(subset_dest_ids))\n",
    "    for _ in range(N*N)]\n",
    "test_closest_set = [\n",
    "    (choice(subset_orig_ids),\n",
    "     [choice(subset_dest_ids)\n",
    "      for _ in range(N)])\n",
    "    for _ in range(N*N)]\n",
    "\n",
    "# Baseline: slow functions\n",
    "start = time()\n",
    "\n",
    "print(\"Running get_distance_slow...\")\n",
    "results_distance_slow = [\n",
    "    get_distance_slow(orig_id, dest_id, CUR)\n",
    "    for orig_id, dest_id\n",
    "    in test_distance_set]\n",
    "\n",
    "# print(\"Running get_closest_slow...\")\n",
    "# results_closest_slow = [\n",
    "#     get_closest_slow(orig_id, dest_ids, CUR)\n",
    "#     for orig_id, dest_ids\n",
    "#     in test_closest_set]"
   ]
  },
  {
   "cell_type": "code",
   "execution_count": 359,
   "metadata": {},
   "outputs": [
    {
     "data": {
      "text/plain": [
       "559"
      ]
     },
     "execution_count": 359,
     "metadata": {},
     "output_type": "execute_result"
    }
   ],
   "source": [
    "len(set(results_distance_slow))"
   ]
  },
  {
   "cell_type": "code",
   "execution_count": null,
   "metadata": {},
   "outputs": [],
   "source": []
  },
  {
   "cell_type": "code",
   "execution_count": null,
   "metadata": {},
   "outputs": [],
   "source": []
  },
  {
   "cell_type": "code",
   "execution_count": null,
   "metadata": {},
   "outputs": [],
   "source": []
  },
  {
   "cell_type": "code",
   "execution_count": null,
   "metadata": {},
   "outputs": [],
   "source": []
  },
  {
   "cell_type": "code",
   "execution_count": null,
   "metadata": {},
   "outputs": [],
   "source": []
  },
  {
   "cell_type": "code",
   "execution_count": null,
   "metadata": {},
   "outputs": [],
   "source": []
  },
  {
   "cell_type": "code",
   "execution_count": null,
   "metadata": {},
   "outputs": [],
   "source": []
  },
  {
   "cell_type": "code",
   "execution_count": 348,
   "metadata": {},
   "outputs": [],
   "source": []
  },
  {
   "cell_type": "code",
   "execution_count": 350,
   "metadata": {},
   "outputs": [],
   "source": []
  },
  {
   "cell_type": "code",
   "execution_count": null,
   "metadata": {},
   "outputs": [],
   "source": []
  },
  {
   "cell_type": "code",
   "execution_count": 112,
   "metadata": {},
   "outputs": [],
   "source": [
    "conn = psycopg2.connect(host = \"localhost\", dbname = \"postgres\", user = \"postgres\")\n",
    "cur = conn.cursor()"
   ]
  },
  {
   "cell_type": "code",
   "execution_count": 304,
   "metadata": {},
   "outputs": [],
   "source": [
    "def get_closest_fast(\n",
    "        orig_id,\n",
    "        dest_ids,\n",
    "        cur):\n",
    "    \"\"\"\n",
    "    Return destination with lowest transportation cost\n",
    "    from origin in list of destinations. \n",
    "    \"\"\"\n",
    "    dest_cost_pair = [dest_ids[0], get_distance_slow(orig_id, dest_ids[0], cur)]\n",
    "    \n",
    "    for dest_id in dest_ids:\n",
    "        pair = [dest_id, get_distance_slow(orig_id, dest_id, cur)] \n",
    "        if pair[1] < dest_cost_pair[1]:\n",
    "            dest_cost_pair = pair\n",
    "\n",
    "    return dest_cost_pair[0]"
   ]
  },
  {
   "cell_type": "code",
   "execution_count": 306,
   "metadata": {},
   "outputs": [],
   "source": [
    "def get_closest_fast(\n",
    "        orig_id,\n",
    "        dest_ids,\n",
    "        cur):\n",
    "    \"\"\"\n",
    "    Return destination with lowest transportation cost\n",
    "    from origin in list of destinations. \n",
    "    \"\"\"\n",
    "    closest = ('', 10**10)\n",
    "    \n",
    "    for dest_id in dest_ids:\n",
    "        cost = get_distance_slow(orig_id, dest_id, cur)\n",
    "        if cost < closest[1]:\n",
    "            closest = (dest_id, cost)\n",
    "\n",
    "    return closest[0]"
   ]
  },
  {
   "cell_type": "code",
   "execution_count": 307,
   "metadata": {},
   "outputs": [
    {
     "name": "stdout",
     "output_type": "stream",
     "text": [
      "900\n"
     ]
    }
   ],
   "source": [
    "results_closest_fast = [\n",
    "        get_closest_fast(orig_id, dest_ids, cur)\n",
    "        for orig_id, dest_ids\n",
    "        in test_closest_set]\n",
    "print(len(results_closest_fast))"
   ]
  },
  {
   "cell_type": "code",
   "execution_count": 316,
   "metadata": {},
   "outputs": [],
   "source": [
    "\"\"\"\n",
    "trying to figure out this query.\n",
    "The current issue is that I can't easily select dest_id because its not part of the groupby\n",
    "\"\"\"\n",
    "\n",
    "def get_closest_single_query(\n",
    "           orig_id,\n",
    "           dest_ids,\n",
    "           cur):\n",
    "    \"\"\"\n",
    "    Return destination with lowest transportation cost\n",
    "    from origin in list of destinations in a single sql query.\n",
    "    \"\"\"\n",
    "    query = (\n",
    "        \"\"\"\n",
    "        select dest_id from \n",
    "        (select MIN(cost), orig_id \n",
    "        from costs \n",
    "        WHERE orig_id = %s \n",
    "        AND dest_id IN %s\n",
    "        GROUP BY orig_id)\n",
    "        AS min_cost\n",
    "        JOIN costs on costs.orig_id = min_cost.orig_id\n",
    "        \"\"\")\n",
    "    cur.execute(query, (orig_id, tuple(dest_ids)))\n",
    "    return cur.fetchone()"
   ]
  },
  {
   "cell_type": "code",
   "execution_count": 294,
   "metadata": {},
   "outputs": [],
   "source": [
    "conn.commit()"
   ]
  },
  {
   "cell_type": "code",
   "execution_count": 300,
   "metadata": {
    "scrolled": false
   },
   "outputs": [],
   "source": [
    "results_get_closest_single = [get_closest_single_query(orig_id, dest_ids, cur)\n",
    "        for orig_id, dest_ids in test_closest_set[:5]]"
   ]
  },
  {
   "cell_type": "markdown",
   "metadata": {},
   "source": [
    "Still need to figure out the IN clause  and converting array to string"
   ]
  },
  {
   "cell_type": "code",
   "execution_count": 301,
   "metadata": {},
   "outputs": [],
   "source": [
    "conn = psycopg2.connect(host = \"localhost\", dbname = \"postgres\", user = \"postgres\")"
   ]
  },
  {
   "cell_type": "code",
   "execution_count": 303,
   "metadata": {},
   "outputs": [],
   "source": [
    "cur = conn.cursor()"
   ]
  },
  {
   "cell_type": "code",
   "execution_count": 314,
   "metadata": {},
   "outputs": [],
   "source": [
    "query = (\n",
    "        \"\"\"\n",
    "        select dest_id from \n",
    "        (select MIN(cost), orig_id \n",
    "        from costs \n",
    "        WHERE orig_id = %s \n",
    "        AND dest_id IN %s\n",
    "        GROUP BY orig_id)\n",
    "        AS min_cost\n",
    "        JOIN costs on costs.orig_id = min_cost.orig_id\n",
    "        \"\"\")\n",
    "\n",
    "cur.execute(query, (test_closest_set[0][0], tuple(test_closest_set[0][1])))"
   ]
  },
  {
   "cell_type": "code",
   "execution_count": 315,
   "metadata": {},
   "outputs": [
    {
     "data": {
      "text/plain": [
       "1219"
      ]
     },
     "execution_count": 315,
     "metadata": {},
     "output_type": "execute_result"
    }
   ],
   "source": [
    "cur.fetchone()[0]"
   ]
  },
  {
   "cell_type": "code",
   "execution_count": null,
   "metadata": {},
   "outputs": [],
   "source": []
  }
 ],
 "metadata": {
  "kernelspec": {
   "display_name": "Python 3",
   "language": "python",
   "name": "python3"
  },
  "language_info": {
   "codemirror_mode": {
    "name": "ipython",
    "version": 3
   },
   "file_extension": ".py",
   "mimetype": "text/x-python",
   "name": "python",
   "nbconvert_exporter": "python",
   "pygments_lexer": "ipython3",
   "version": "3.6.8"
  }
 },
 "nbformat": 4,
 "nbformat_minor": 2
}
