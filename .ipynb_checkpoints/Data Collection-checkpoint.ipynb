{
 "cells": [
  {
   "cell_type": "markdown",
   "metadata": {},
   "source": [
    "### Web Scraping the Data!"
   ]
  },
  {
   "cell_type": "code",
   "execution_count": 1,
   "metadata": {
    "scrolled": true
   },
   "outputs": [],
   "source": [
    "import pandas as pd\n",
    "import requests\n",
    "from bs4 import BeautifulSoup"
   ]
  },
  {
   "cell_type": "markdown",
   "metadata": {},
   "source": [
    "**Code to scrape California population by County**"
   ]
  },
  {
   "cell_type": "code",
   "execution_count": 2,
   "metadata": {},
   "outputs": [
    {
     "name": "stdout",
     "output_type": "stream",
     "text": [
      "200\n"
     ]
    }
   ],
   "source": [
    "url = 'https://www.california-demographics.com/counties_by_population'\n",
    "\n",
    "res = requests.get(url)\n",
    "print(res.status_code)\n",
    "\n",
    "# beautiful soup!\n",
    "soup = BeautifulSoup(res.content)\n",
    "\n",
    "# find html table\n",
    "table = soup.find('table')\n",
    "\n",
    "columns = [i.text for i in table.find_all('th')]\n",
    "\n",
    "rows = table.find_all('tr')[1:-1]\n",
    "\n",
    "row_dict_list = []\n",
    "\n",
    "for i in rows:\n",
    "    data = i.find_all('td')\n",
    "\n",
    "    row_dict = {}\n",
    "    \n",
    "    \n",
    "    rank = data[0].text\n",
    "    county = data[1].text\n",
    "    pop = data[2].text\n",
    "    \n",
    "    row_dict['Rank'] = int(rank.strip('\\n        '))\n",
    "    row_dict['County'] = county.strip('\\n        ').replace(' County', '').upper()\n",
    "    row_dict['Population'] = int(pop.strip('\\n        ').replace(',', ''))\n",
    "    \n",
    "    row_dict_list.append(row_dict)"
   ]
  },
  {
   "cell_type": "code",
   "execution_count": 3,
   "metadata": {
    "scrolled": true
   },
   "outputs": [
    {
     "name": "stdout",
     "output_type": "stream",
     "text": [
      "58 rows; \n"
     ]
    },
    {
     "data": {
      "text/html": [
       "<div>\n",
       "<style scoped>\n",
       "    .dataframe tbody tr th:only-of-type {\n",
       "        vertical-align: middle;\n",
       "    }\n",
       "\n",
       "    .dataframe tbody tr th {\n",
       "        vertical-align: top;\n",
       "    }\n",
       "\n",
       "    .dataframe thead th {\n",
       "        text-align: right;\n",
       "    }\n",
       "</style>\n",
       "<table border=\"1\" class=\"dataframe\">\n",
       "  <thead>\n",
       "    <tr style=\"text-align: right;\">\n",
       "      <th></th>\n",
       "      <th>County</th>\n",
       "      <th>Population</th>\n",
       "      <th>Rank</th>\n",
       "    </tr>\n",
       "  </thead>\n",
       "  <tbody>\n",
       "    <tr>\n",
       "      <th>0</th>\n",
       "      <td>LOS ANGELES</td>\n",
       "      <td>10105518</td>\n",
       "      <td>1</td>\n",
       "    </tr>\n",
       "    <tr>\n",
       "      <th>1</th>\n",
       "      <td>SAN DIEGO</td>\n",
       "      <td>3343364</td>\n",
       "      <td>2</td>\n",
       "    </tr>\n",
       "    <tr>\n",
       "      <th>2</th>\n",
       "      <td>ORANGE</td>\n",
       "      <td>3185968</td>\n",
       "      <td>3</td>\n",
       "    </tr>\n",
       "    <tr>\n",
       "      <th>3</th>\n",
       "      <td>RIVERSIDE</td>\n",
       "      <td>2450758</td>\n",
       "      <td>4</td>\n",
       "    </tr>\n",
       "    <tr>\n",
       "      <th>4</th>\n",
       "      <td>SAN BERNARDINO</td>\n",
       "      <td>2171603</td>\n",
       "      <td>5</td>\n",
       "    </tr>\n",
       "  </tbody>\n",
       "</table>\n",
       "</div>"
      ],
      "text/plain": [
       "           County  Population  Rank\n",
       "0     LOS ANGELES    10105518     1\n",
       "1       SAN DIEGO     3343364     2\n",
       "2          ORANGE     3185968     3\n",
       "3       RIVERSIDE     2450758     4\n",
       "4  SAN BERNARDINO     2171603     5"
      ]
     },
     "execution_count": 3,
     "metadata": {},
     "output_type": "execute_result"
    }
   ],
   "source": [
    "ca_counties = pd.DataFrame(data = row_dict_list)\n",
    "print(ca_counties.shape[0], 'rows; ')\n",
    "ca_counties.head()"
   ]
  },
  {
   "cell_type": "code",
   "execution_count": 4,
   "metadata": {},
   "outputs": [],
   "source": [
    "# save to CSV\n",
    "ca_counties.to_csv('./data/ca_counties_by_pop.csv', index = False)"
   ]
  },
  {
   "cell_type": "markdown",
   "metadata": {},
   "source": [
    "**Code to scrape West Virginia population by County**"
   ]
  },
  {
   "cell_type": "code",
   "execution_count": 5,
   "metadata": {},
   "outputs": [
    {
     "name": "stdout",
     "output_type": "stream",
     "text": [
      "200\n"
     ]
    }
   ],
   "source": [
    "url = 'https://www.westvirginia-demographics.com/counties_by_population'\n",
    "\n",
    "res_wv = requests.get(url)\n",
    "print(res_wv.status_code)\n",
    "\n",
    "# beautiful soup!\n",
    "soup_wv = BeautifulSoup(res_wv.content)\n",
    "\n",
    "# find html table\n",
    "table_wv = soup_wv.find('table')\n",
    "\n",
    "columns = [i.text for i in table.find_all('th')]\n",
    "\n",
    "rows_wv = table_wv.find_all('tr')[1:-1]\n",
    "\n",
    "wv_row_dict_list = []\n",
    "\n",
    "for i in rows_wv:\n",
    "    data = i.find_all('td')\n",
    "\n",
    "    row_dict = {}\n",
    "    \n",
    "    \n",
    "    rank = data[0].text\n",
    "    county = data[1].text\n",
    "    pop = data[2].text\n",
    "    \n",
    "    row_dict['Rank'] = int(rank.strip('\\n        '))\n",
    "    row_dict['County'] = county.strip('\\n        ').replace(' County', '').upper()\n",
    "    row_dict['Population'] = int(pop.strip('\\n        ').replace(',', ''))\n",
    "    \n",
    "    wv_row_dict_list.append(row_dict)"
   ]
  },
  {
   "cell_type": "code",
   "execution_count": 6,
   "metadata": {},
   "outputs": [
    {
     "name": "stdout",
     "output_type": "stream",
     "text": [
      "55 rows; \n"
     ]
    },
    {
     "data": {
      "text/html": [
       "<div>\n",
       "<style scoped>\n",
       "    .dataframe tbody tr th:only-of-type {\n",
       "        vertical-align: middle;\n",
       "    }\n",
       "\n",
       "    .dataframe tbody tr th {\n",
       "        vertical-align: top;\n",
       "    }\n",
       "\n",
       "    .dataframe thead th {\n",
       "        text-align: right;\n",
       "    }\n",
       "</style>\n",
       "<table border=\"1\" class=\"dataframe\">\n",
       "  <thead>\n",
       "    <tr style=\"text-align: right;\">\n",
       "      <th></th>\n",
       "      <th>County</th>\n",
       "      <th>Population</th>\n",
       "      <th>Rank</th>\n",
       "    </tr>\n",
       "  </thead>\n",
       "  <tbody>\n",
       "    <tr>\n",
       "      <th>0</th>\n",
       "      <td>KANAWHA</td>\n",
       "      <td>180454</td>\n",
       "      <td>1</td>\n",
       "    </tr>\n",
       "    <tr>\n",
       "      <th>1</th>\n",
       "      <td>BERKELEY</td>\n",
       "      <td>117123</td>\n",
       "      <td>2</td>\n",
       "    </tr>\n",
       "    <tr>\n",
       "      <th>2</th>\n",
       "      <td>MONONGALIA</td>\n",
       "      <td>106420</td>\n",
       "      <td>3</td>\n",
       "    </tr>\n",
       "    <tr>\n",
       "      <th>3</th>\n",
       "      <td>CABELL</td>\n",
       "      <td>93224</td>\n",
       "      <td>4</td>\n",
       "    </tr>\n",
       "    <tr>\n",
       "      <th>4</th>\n",
       "      <td>WOOD</td>\n",
       "      <td>84203</td>\n",
       "      <td>5</td>\n",
       "    </tr>\n",
       "  </tbody>\n",
       "</table>\n",
       "</div>"
      ],
      "text/plain": [
       "       County  Population  Rank\n",
       "0     KANAWHA      180454     1\n",
       "1    BERKELEY      117123     2\n",
       "2  MONONGALIA      106420     3\n",
       "3      CABELL       93224     4\n",
       "4        WOOD       84203     5"
      ]
     },
     "execution_count": 6,
     "metadata": {},
     "output_type": "execute_result"
    }
   ],
   "source": [
    "wv_counties = pd.DataFrame(data = wv_row_dict_list)\n",
    "print(wv_counties.shape[0], 'rows; ')\n",
    "wv_counties.head()"
   ]
  },
  {
   "cell_type": "code",
   "execution_count": 7,
   "metadata": {},
   "outputs": [],
   "source": [
    "wv_counties.to_csv('./data/west_virgina_pop_by_county.csv', index = False)"
   ]
  },
  {
   "cell_type": "markdown",
   "metadata": {},
   "source": [
    "#### Opioid Deaths per State per year\n",
    "**2009 - 2017**\n",
    "\n",
    "Download Separate CSVs for each year from [CDC](https://www.kff.org/other/state-indicator/opioid-overdose-death-rates/?currentTimeframe=18&sortModel=%7B%22colId%22:%22Location%22,%22sort%22:%22asc%22%7D)"
   ]
  },
  {
   "cell_type": "code",
   "execution_count": 8,
   "metadata": {},
   "outputs": [
    {
     "name": "stdout",
     "output_type": "stream",
     "text": [
      "{0: 1999, 1: 2000, 2: 2001, 3: 2002, 4: 2003, 5: 2004, 6: 2005, 7: 2006, 8: 2007, 9: 2008, 10: 2009, 11: 2010, 12: 2011, 13: 2012, 14: 2013, 15: 2014, 16: 2015, 17: 2016, 18: 2017}\n"
     ]
    }
   ],
   "source": [
    "# years of data - 1999 to 2018\n",
    "years = range(1999, 2018)\n",
    "\n",
    "# constructing a dictionary to correspond with the unique file name in the data directory \n",
    "year_to_url_key = {v:years[v] for v in range(len(years)) }\n",
    "print(year_to_url_key)"
   ]
  },
  {
   "cell_type": "code",
   "execution_count": 9,
   "metadata": {},
   "outputs": [],
   "source": [
    "# creating an empty list for each new dataframe\n",
    "dfs = []\n",
    "\n",
    "# 19 years of data\n",
    "for i in range(0, 19):\n",
    "    data = './cdc_opioid_mortality/raw_data ({}).csv'.format(i)\n",
    "\n",
    "    # csv format has notes - we only want the rows with state data\n",
    "    df = pd.read_csv(data, header = 2)[:52]\n",
    "    \n",
    "    # changing the column names\n",
    "    df.columns = ['location', '{}_opioid_deaths'.format(year_to_url_key[i]), \n",
    "                  '{}_drug_deaths'.format(year_to_url_key[i]), \n",
    "                  '{}_change_opioid'.format(year_to_url_key[i]), \n",
    "                  '{}_change_drug'.format(year_to_url_key[i])]\n",
    "    \n",
    "    # adding to the list of dfs\n",
    "    dfs.append(df)\n",
    "    \n",
    "# new empty dataframe    \n",
    "opioids = pd.DataFrame()\n",
    "\n",
    "# add all the data together \n",
    "for i in dfs:\n",
    "    opioids[i.columns] = i"
   ]
  },
  {
   "cell_type": "code",
   "execution_count": 10,
   "metadata": {},
   "outputs": [
    {
     "data": {
      "text/html": [
       "<div>\n",
       "<style scoped>\n",
       "    .dataframe tbody tr th:only-of-type {\n",
       "        vertical-align: middle;\n",
       "    }\n",
       "\n",
       "    .dataframe tbody tr th {\n",
       "        vertical-align: top;\n",
       "    }\n",
       "\n",
       "    .dataframe thead th {\n",
       "        text-align: right;\n",
       "    }\n",
       "</style>\n",
       "<table border=\"1\" class=\"dataframe\">\n",
       "  <thead>\n",
       "    <tr style=\"text-align: right;\">\n",
       "      <th></th>\n",
       "      <th>location</th>\n",
       "      <th>1999_opioid_deaths</th>\n",
       "      <th>1999_drug_deaths</th>\n",
       "      <th>1999_change_opioid</th>\n",
       "      <th>1999_change_drug</th>\n",
       "      <th>2000_opioid_deaths</th>\n",
       "      <th>2000_drug_deaths</th>\n",
       "      <th>2000_change_opioid</th>\n",
       "      <th>2000_change_drug</th>\n",
       "      <th>2001_opioid_deaths</th>\n",
       "      <th>...</th>\n",
       "      <th>2015_change_opioid</th>\n",
       "      <th>2015_change_drug</th>\n",
       "      <th>2016_opioid_deaths</th>\n",
       "      <th>2016_drug_deaths</th>\n",
       "      <th>2016_change_opioid</th>\n",
       "      <th>2016_change_drug</th>\n",
       "      <th>2017_opioid_deaths</th>\n",
       "      <th>2017_drug_deaths</th>\n",
       "      <th>2017_change_opioid</th>\n",
       "      <th>2017_change_drug</th>\n",
       "    </tr>\n",
       "  </thead>\n",
       "  <tbody>\n",
       "    <tr>\n",
       "      <th>0</th>\n",
       "      <td>United States</td>\n",
       "      <td>2.9</td>\n",
       "      <td>6.1</td>\n",
       "      <td>NSD</td>\n",
       "      <td>NSD</td>\n",
       "      <td>3</td>\n",
       "      <td>6.2</td>\n",
       "      <td>0.03</td>\n",
       "      <td>0.02</td>\n",
       "      <td>3.3</td>\n",
       "      <td>...</td>\n",
       "      <td>0.156</td>\n",
       "      <td>0.109</td>\n",
       "      <td>13.3</td>\n",
       "      <td>19.8</td>\n",
       "      <td>0.28</td>\n",
       "      <td>0.21</td>\n",
       "      <td>14.9</td>\n",
       "      <td>21.7</td>\n",
       "      <td>0.12</td>\n",
       "      <td>0.10</td>\n",
       "    </tr>\n",
       "    <tr>\n",
       "      <th>1</th>\n",
       "      <td>Alabama</td>\n",
       "      <td>0.8</td>\n",
       "      <td>3.9</td>\n",
       "      <td>NSD</td>\n",
       "      <td>NSD</td>\n",
       "      <td>1</td>\n",
       "      <td>4.5</td>\n",
       "      <td>0.25</td>\n",
       "      <td>0.15</td>\n",
       "      <td>1.3</td>\n",
       "      <td>...</td>\n",
       "      <td>0.089</td>\n",
       "      <td>0.033</td>\n",
       "      <td>7.5</td>\n",
       "      <td>16.2</td>\n",
       "      <td>0.23</td>\n",
       "      <td>0.03</td>\n",
       "      <td>9.0</td>\n",
       "      <td>18.0</td>\n",
       "      <td>0.20</td>\n",
       "      <td>0.11</td>\n",
       "    </tr>\n",
       "    <tr>\n",
       "      <th>2</th>\n",
       "      <td>Alaska</td>\n",
       "      <td>4</td>\n",
       "      <td>7.5</td>\n",
       "      <td>NSD</td>\n",
       "      <td>NSD</td>\n",
       "      <td>4</td>\n",
       "      <td>7.1</td>\n",
       "      <td>0</td>\n",
       "      <td>-0.05</td>\n",
       "      <td>NR</td>\n",
       "      <td>...</td>\n",
       "      <td>0.038</td>\n",
       "      <td>-0.048</td>\n",
       "      <td>12.5</td>\n",
       "      <td>16.8</td>\n",
       "      <td>0.14</td>\n",
       "      <td>0.05</td>\n",
       "      <td>13.9</td>\n",
       "      <td>20.2</td>\n",
       "      <td>0.11</td>\n",
       "      <td>0.20</td>\n",
       "    </tr>\n",
       "    <tr>\n",
       "      <th>3</th>\n",
       "      <td>Arizona</td>\n",
       "      <td>4.7</td>\n",
       "      <td>10.6</td>\n",
       "      <td>NSD</td>\n",
       "      <td>NSD</td>\n",
       "      <td>4.8</td>\n",
       "      <td>10.6</td>\n",
       "      <td>0.02</td>\n",
       "      <td>0</td>\n",
       "      <td>5.2</td>\n",
       "      <td>...</td>\n",
       "      <td>0.159</td>\n",
       "      <td>0.044</td>\n",
       "      <td>11.4</td>\n",
       "      <td>20.3</td>\n",
       "      <td>0.12</td>\n",
       "      <td>0.07</td>\n",
       "      <td>13.5</td>\n",
       "      <td>22.2</td>\n",
       "      <td>0.18</td>\n",
       "      <td>0.09</td>\n",
       "    </tr>\n",
       "    <tr>\n",
       "      <th>4</th>\n",
       "      <td>Arkansas</td>\n",
       "      <td>1.1</td>\n",
       "      <td>4.4</td>\n",
       "      <td>NSD</td>\n",
       "      <td>NSD</td>\n",
       "      <td>0.8</td>\n",
       "      <td>5.4</td>\n",
       "      <td>-0.27</td>\n",
       "      <td>0.23</td>\n",
       "      <td>1.1</td>\n",
       "      <td>...</td>\n",
       "      <td>0.143</td>\n",
       "      <td>0.095</td>\n",
       "      <td>5.9</td>\n",
       "      <td>14.0</td>\n",
       "      <td>-0.18</td>\n",
       "      <td>0.01</td>\n",
       "      <td>6.5</td>\n",
       "      <td>15.5</td>\n",
       "      <td>0.10</td>\n",
       "      <td>0.11</td>\n",
       "    </tr>\n",
       "  </tbody>\n",
       "</table>\n",
       "<p>5 rows × 77 columns</p>\n",
       "</div>"
      ],
      "text/plain": [
       "        location 1999_opioid_deaths 1999_drug_deaths 1999_change_opioid  \\\n",
       "0  United States                2.9              6.1                NSD   \n",
       "1        Alabama                0.8              3.9                NSD   \n",
       "2         Alaska                  4              7.5                NSD   \n",
       "3        Arizona                4.7             10.6                NSD   \n",
       "4       Arkansas                1.1              4.4                NSD   \n",
       "\n",
       "  1999_change_drug 2000_opioid_deaths 2000_drug_deaths 2000_change_opioid  \\\n",
       "0              NSD                  3              6.2               0.03   \n",
       "1              NSD                  1              4.5               0.25   \n",
       "2              NSD                  4              7.1                  0   \n",
       "3              NSD                4.8             10.6               0.02   \n",
       "4              NSD                0.8              5.4              -0.27   \n",
       "\n",
       "  2000_change_drug 2001_opioid_deaths  ... 2015_change_opioid  \\\n",
       "0             0.02                3.3  ...              0.156   \n",
       "1             0.15                1.3  ...              0.089   \n",
       "2            -0.05                 NR  ...              0.038   \n",
       "3                0                5.2  ...              0.159   \n",
       "4             0.23                1.1  ...              0.143   \n",
       "\n",
       "  2015_change_drug 2016_opioid_deaths 2016_drug_deaths 2016_change_opioid  \\\n",
       "0            0.109               13.3             19.8               0.28   \n",
       "1            0.033                7.5             16.2               0.23   \n",
       "2           -0.048               12.5             16.8               0.14   \n",
       "3            0.044               11.4             20.3               0.12   \n",
       "4            0.095                5.9             14.0              -0.18   \n",
       "\n",
       "  2016_change_drug 2017_opioid_deaths 2017_drug_deaths  2017_change_opioid  \\\n",
       "0             0.21               14.9             21.7                0.12   \n",
       "1             0.03                9.0             18.0                0.20   \n",
       "2             0.05               13.9             20.2                0.11   \n",
       "3             0.07               13.5             22.2                0.18   \n",
       "4             0.01                6.5             15.5                0.10   \n",
       "\n",
       "  2017_change_drug  \n",
       "0             0.10  \n",
       "1             0.11  \n",
       "2             0.20  \n",
       "3             0.09  \n",
       "4             0.11  \n",
       "\n",
       "[5 rows x 77 columns]"
      ]
     },
     "execution_count": 10,
     "metadata": {},
     "output_type": "execute_result"
    }
   ],
   "source": [
    "opioids.head()"
   ]
  },
  {
   "cell_type": "code",
   "execution_count": 11,
   "metadata": {},
   "outputs": [],
   "source": [
    "opioids.to_csv('./data/ods_by_state_1999_to_2017.csv', index = False)"
   ]
  }
 ],
 "metadata": {
  "kernelspec": {
   "display_name": "Python 3",
   "language": "python",
   "name": "python3"
  },
  "language_info": {
   "codemirror_mode": {
    "name": "ipython",
    "version": 3
   },
   "file_extension": ".py",
   "mimetype": "text/x-python",
   "name": "python",
   "nbconvert_exporter": "python",
   "pygments_lexer": "ipython3",
   "version": "3.6.8"
  }
 },
 "nbformat": 4,
 "nbformat_minor": 2
}
